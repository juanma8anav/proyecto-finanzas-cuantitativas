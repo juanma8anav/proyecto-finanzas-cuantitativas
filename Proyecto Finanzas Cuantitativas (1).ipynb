{
 "cells": [
  {
   "cell_type": "code",
   "execution_count": 67,
   "metadata": {},
   "outputs": [],
   "source": [
    "#importar los paquetes que se van a usar\n",
    "import pandas as pd\n",
    "import pandas_datareader.data as web\n",
    "import numpy as np\n",
    "from sklearn.neighbors import KernelDensity\n",
    "import datetime\n",
    "from datetime import datetime, timedelta\n",
    "import scipy.stats as st\n",
    "import scipy as sp\n",
    "import scipy.optimize as optimize\n",
    "import scipy.cluster.hierarchy as hac\n",
    "import matplotlib.pyplot as plt\n",
    "import seaborn as sns\n",
    "%matplotlib inline\n",
    "#algunas opciones para Python\n",
    "pd.set_option('display.notebook_repr_html', True)\n",
    "pd.set_option('display.max_columns', 6)\n",
    "pd.set_option('display.max_rows', 10)\n",
    "pd.set_option('display.width', 78)\n",
    "pd.set_option('precision', 3)\n",
    "pd.options.display.float_format = '{:.2f}'.format"
   ]
  },
  {
   "cell_type": "markdown",
   "metadata": {},
   "source": [
    "# Bases de datos historicas"
   ]
  },
  {
   "cell_type": "code",
   "execution_count": 2,
   "metadata": {},
   "outputs": [],
   "source": [
    "dolar=pd.read_excel('dolar.xlsx',index_col=0)\n",
    "plata=pd.read_excel('plata.xlsx',index_col=0)"
   ]
  },
  {
   "cell_type": "markdown",
   "metadata": {},
   "source": [
    "# Simulacion de precios"
   ]
  },
  {
   "cell_type": "code",
   "execution_count": 3,
   "metadata": {},
   "outputs": [],
   "source": [
    "def calc_daily_ret(closes):\n",
    "    return np.log(closes/closes.shift(1)).iloc[1:]"
   ]
  },
  {
   "cell_type": "code",
   "execution_count": 4,
   "metadata": {},
   "outputs": [
    {
     "data": {
      "text/plain": [
       "(-0.00119411384505747, 0.010313002084603761, 5.7777777777777776e-05)"
      ]
     },
     "execution_count": 4,
     "metadata": {},
     "output_type": "execute_result"
    }
   ],
   "source": [
    "plata_closes=pd.DataFrame(plata.iloc[0:100,0][::-1])\n",
    "ret_plata = calc_daily_ret(plata_closes)\n",
    "# Obtenemos el rendimiento simple\n",
    "Ri = plata_closes.pct_change(1).iloc[1:]\n",
    "# Obtenemos su media y desviación estándar de los rendimientos\n",
    "mu = Ri.mean()[0]\n",
    "sigma = Ri.std()[0]\n",
    "r = 0.0208/360\n",
    "mu,sigma,r"
   ]
  },
  {
   "cell_type": "code",
   "execution_count": 15,
   "metadata": {},
   "outputs": [
    {
     "data": {
      "text/plain": [
       "(61, 100000)"
      ]
     },
     "execution_count": 15,
     "metadata": {},
     "output_type": "execute_result"
    }
   ],
   "source": [
    "ndays = (datetime(2018,12,31).date()-datetime(2018,10,31).date()).days\n",
    "nscen = 100000\n",
    "dates = pd.date_range('2018-10-31',periods=ndays).astype('str')\n",
    "ndays,nscen"
   ]
  },
  {
   "cell_type": "code",
   "execution_count": 76,
   "metadata": {},
   "outputs": [],
   "source": [
    "sim_ret = pd.DataFrame(sigma*np.random.randn(ndays,nscen)+r, index=dates)\n",
    "sim_ret.cumsum()\n",
    "S0 = plata_closes.iloc[-1,0]  # Condición inicial del precio a simular\n",
    "sim_closes = S0*np.exp(sim_ret.cumsum())#Valor presente\n",
    "#pd.concat([plata_closes,sim_closes]).plot(figsize=(8,6));"
   ]
  },
  {
   "cell_type": "code",
   "execution_count": 77,
   "metadata": {},
   "outputs": [
    {
     "name": "stdout",
     "output_type": "stream",
     "text": [
      "el precio al dia en que se paga la opcion es de  Cierre   14.23\n",
      "Name: 31.10.2018, dtype: float64\n"
     ]
    }
   ],
   "source": [
    "spot=plata_closes.iloc[-1]\n",
    "print('el precio al dia en que se paga la opcion es de ',spot)"
   ]
  },
  {
   "cell_type": "code",
   "execution_count": 83,
   "metadata": {},
   "outputs": [],
   "source": [
    "strike=14.35\n",
    "prime=.317\n",
    "p_L=sim_closes-strike"
   ]
  },
  {
   "cell_type": "code",
   "execution_count": 79,
   "metadata": {},
   "outputs": [],
   "source": [
    "p_L.iloc[p_L<0]=0\n",
    "#si el precio es negativo, no se ejerce la opcion"
   ]
  },
  {
   "cell_type": "code",
   "execution_count": 80,
   "metadata": {},
   "outputs": [
    {
     "name": "stdout",
     "output_type": "stream",
     "text": [
      "la opcion se ejercicio en un  47.524 % de las veces\n"
     ]
    }
   ],
   "source": [
    "print('la opcion se ejercic en un ',np.count_nonzero(p_L.iloc[-1,:])/len(p_L.iloc[-1,:])*100,'% de las veces')"
   ]
  },
  {
   "cell_type": "code",
   "execution_count": 81,
   "metadata": {},
   "outputs": [
    {
     "data": {
      "text/plain": [
       "0        1.03\n",
       "1       -0.32\n",
       "2        0.85\n",
       "3       -0.32\n",
       "4       -0.32\n",
       "         ... \n",
       "99995    1.37\n",
       "99996    0.34\n",
       "99997    0.50\n",
       "99998    1.11\n",
       "99999    1.52\n",
       "Name: 2018-12-30, Length: 100000, dtype: float64"
      ]
     },
     "execution_count": 81,
     "metadata": {},
     "output_type": "execute_result"
    }
   ],
   "source": [
    "p_L.iloc[-1,:].T-prime"
   ]
  },
  {
   "attachments": {
    "image.png": {
     "image/png": "[encoded data removed]"
    }
   },
   "cell_type": "markdown",
   "metadata": {},
   "source": [
    "# Supuestos\n",
    ">> La opcion se pactaria con un strike en 14.35 para la opcion que expira en diciembre de este año\n",
    "\n",
    ">> El negocio necesita de toda la plata del contrato subyacente de la opcion\n",
    "\n",
    ">> La opcion se pacta al dia 31 de Octubre del 2018\n",
    "\n",
    "![image.png](attachment:image.png)\n",
    "\n"
   ]
  },
  {
   "attachments": {
    "image.png": {
     "image/png": "[encoded data removed]"
    }
   },
   "cell_type": "markdown",
   "metadata": {},
   "source": [
    "![image.png](attachment:image.png)"
   ]
  },
  {
   "cell_type": "code",
   "execution_count": 52,
   "metadata": {},
   "outputs": [
    {
     "name": "stdout",
     "output_type": "stream",
     "text": [
      "de comprarse al dia de hoy el costo seria de $ 71145.0  dolares\n"
     ]
    }
   ],
   "source": [
    "print('de comprarse al dia de hoy el costo seria de $',14.229*5000,' dolares')"
   ]
  },
  {
   "cell_type": "code",
   "execution_count": 71,
   "metadata": {},
   "outputs": [
    {
     "name": "stdout",
     "output_type": "stream",
     "text": [
      "de comprarse dia a dia la cantidad necesaria asumiendo que cada dia se necesita la misma cantidad el costo promedio seria de $ 71393.66228041383  dolares\n"
     ]
    }
   ],
   "source": [
    "print('de comprarse dia a dia la cantidad necesaria asumiendo que cada dia se necesita la misma cantidad el costo promedio seria de $',\n",
    "      np.mean(np.sum(sim_closes*(5000/ndays),axis=0)),' dolares')\n"
   ]
  },
  {
   "cell_type": "code",
   "execution_count": 87,
   "metadata": {},
   "outputs": [],
   "source": [
    "finales=pd.DataFrame(sim_closes.iloc[-1,:].T)"
   ]
  },
  {
   "cell_type": "code",
   "execution_count": 122,
   "metadata": {},
   "outputs": [],
   "source": [
    "costo=(finales)\n",
    "costo=costo*0+strike*5000"
   ]
  },
  {
   "cell_type": "code",
   "execution_count": 123,
   "metadata": {},
   "outputs": [],
   "source": [
    "costo.loc[((finales-strike)<0)['2018-12-30']]=finales.loc[((finales-strike)<0)['2018-12-30']]*5000"
   ]
  },
  {
   "cell_type": "code",
   "execution_count": 132,
   "metadata": {},
   "outputs": [
    {
     "name": "stdout",
     "output_type": "stream",
     "text": [
      "de comprarse el call el costo promedio seria de $ 70976.10924464611\n"
     ]
    }
   ],
   "source": [
    "print('de comprarse el call el costo promedio seria de $',np.mean(costo+prime*5000)[0])"
   ]
  },
  {
   "cell_type": "code",
   "execution_count": null,
   "metadata": {},
   "outputs": [],
   "source": []
  }
 ],
 "metadata": {
  "kernelspec": {
   "display_name": "Python 3",
   "language": "python",
   "name": "python3"
  },
  "language_info": {
   "codemirror_mode": {
    "name": "ipython",
    "version": 3
   },
   "file_extension": ".py",
   "mimetype": "text/x-python",
   "name": "python",
   "nbconvert_exporter": "python",
   "pygments_lexer": "ipython3",
   "version": "3.6.5"
  }
 },
 "nbformat": 4,
 "nbformat_minor": 2
}
